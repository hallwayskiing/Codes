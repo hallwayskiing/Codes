{
 "cells": [
  {
   "cell_type": "markdown",
   "metadata": {
    "id": "1wOHgOlL82YP"
   },
   "source": [
    "# Part 1:  Simple linear regression for one independent variable\n",
    "\n",
    "In this lab, you will load data, plot data, perform simple mathematical manipulations, and fit a simple linear regression model.  Before doing this lab, you can go through the class demo on simple linear regression for an automobile dataset.  The lab use the Ames Housing dataset which is a commonly used machine learning data set for illustrating basic concepts.  "
   ]
  },
  {
   "cell_type": "markdown",
   "metadata": {
    "collapsed": true,
    "id": "BQfs8r8882YS"
   },
   "source": [
    "## Loading the data\n",
    "\n",
    "The Ames housing data set was collected in 2011 and contains information about home sales in Ames, Iowa, including the sale price and numerical and categorical information about each home. We have constructed a \"reduced\" version of the dataset that is available at:\n",
    "\n",
    "https://www.chrismusco.com/machinelearning2024_grad/AmesHousing.csv.\n",
    "\n",
    "More information about the meaning of each column can be found here: https://cran.r-project.org/web/packages/AmesHousing/AmesHousing.pdf. Note that our version of the dataset contains a subset of the columns in the original dataset and the last column, SalesPrice, is in units of 1000s of US dollars in our version.\n",
    "\n",
    "In the lab, you will complete all the code marked `TODO`.\n",
    "\n",
    "First, complete the following code that uses the `pd.read_csv` command to read the data from the file linked above."
   ]
  },
  {
   "cell_type": "code",
   "execution_count": null,
   "metadata": {
    "id": "ri1lo0uf82YS"
   },
   "outputs": [],
   "source": [
    "import pandas as pd\n",
    "import numpy as np\n",
    "# TODO:  Complete the code\n",
    "# df = pd.read_csv(...)"
   ]
  },
  {
   "cell_type": "markdown",
   "metadata": {
    "id": "_LfapTGd82YT"
   },
   "source": [
    "Display the first six rows of the data frame"
   ]
  },
  {
   "cell_type": "code",
   "execution_count": null,
   "metadata": {
    "id": "wntinQOm82YT"
   },
   "outputs": [],
   "source": [
    "# TODO\n",
    "# TODO\n"
   ]
  },
  {
   "cell_type": "markdown",
   "metadata": {
    "id": "QCtnTO4W82YU"
   },
   "source": [
    "## Basic Manipulations on the Data\n",
    "\n",
    "What is the shape of the data?  How many attributes are there?  How many samples?\n",
    "Print a statement of the form:\n",
    "\n",
    "    num samples=xxx, num attributes=yy"
   ]
  },
  {
   "cell_type": "code",
   "execution_count": null,
   "metadata": {
    "id": "_RwUMg_P82YU"
   },
   "outputs": [],
   "source": [
    "# TODO\n",
    "\n"
   ]
  },
  {
   "cell_type": "markdown",
   "metadata": {
    "id": "DBBeEPxXVpjN"
   },
   "source": [
    "The dataset contains some NaN value. Before proceeding, drop all rows from the dataframe with NaN values. There should only be a few."
   ]
  },
  {
   "cell_type": "code",
   "execution_count": null,
   "metadata": {
    "id": "0ff1sw6bV5RL"
   },
   "outputs": [],
   "source": [
    "# TODO\n"
   ]
  },
  {
   "cell_type": "markdown",
   "metadata": {
    "id": "0l54X2fn82YU"
   },
   "source": [
    "Create a response vector `y` with the values in the column `SalePrice`.  The vector `y` should be a 1D `numpy.ndarray` structure."
   ]
  },
  {
   "cell_type": "code",
   "execution_count": null,
   "metadata": {
    "id": "2XE4xs3P82YV"
   },
   "outputs": [],
   "source": [
    "# TODO\n",
    "# y = ...\n",
    "\n"
   ]
  },
  {
   "cell_type": "markdown",
   "metadata": {
    "id": "ck5d5fnf82YV"
   },
   "source": [
    "Use the response vector `y` to find the mean house price in thousands and the fraction of homes that are above $120k. Print and label your results."
   ]
  },
  {
   "cell_type": "code",
   "execution_count": null,
   "metadata": {
    "id": "CRPdVStC82YW"
   },
   "outputs": [],
   "source": [
    "# TODO\n"
   ]
  },
  {
   "cell_type": "markdown",
   "metadata": {
    "id": "WKV5d5N882YW"
   },
   "source": [
    "## Visualizing the Data\n",
    "\n",
    "Load the `matplotlib` package with the following commands."
   ]
  },
  {
   "cell_type": "code",
   "execution_count": null,
   "metadata": {
    "id": "boqNOrZp82YW"
   },
   "outputs": [],
   "source": [
    "import matplotlib\n",
    "import matplotlib.pyplot as plt\n",
    "%matplotlib inline"
   ]
  },
  {
   "cell_type": "markdown",
   "metadata": {
    "id": "wV3xdlIP82YW"
   },
   "source": [
    "Similar to the `y` vector, create a predictor vector `x` containing the values in the `TotRms AbvGrd` column, which represents the total number of non-basement rooms in the home."
   ]
  },
  {
   "cell_type": "code",
   "execution_count": null,
   "metadata": {
    "id": "K-6zHpkC82YX"
   },
   "outputs": [],
   "source": [
    "# TODO\n",
    "# x = ...\n"
   ]
  },
  {
   "cell_type": "markdown",
   "metadata": {
    "id": "PfjeI4M982YX"
   },
   "source": [
    "Create a scatter plot of the price vs. the `TotRms AbvGrd` attribute.  Label the axes with reasonable labels so that someone else can understand the plot."
   ]
  },
  {
   "cell_type": "code",
   "execution_count": null,
   "metadata": {
    "id": "8ohcQaqj82YX"
   },
   "outputs": [],
   "source": [
    "# TODO\n"
   ]
  },
  {
   "cell_type": "markdown",
   "metadata": {
    "id": "A4Bq2-MS82YX"
   },
   "source": [
    "## Fitting a Simple Linear Model\n",
    "\n",
    "We will write a simple function to perform a linear fit under the squared loss function. Use the formulae given in the class to compute the optimal parameters $\\beta_0,\\beta_1$ in the linear model $$y =\\beta_0 + \\beta_1 x$$ as well as the optimal loss $\\sum_{i=1}^n (y_i - \\beta_0 - \\beta_1 x_i)^2$."
   ]
  },
  {
   "cell_type": "code",
   "execution_count": null,
   "metadata": {
    "id": "f1KClvuZ82YX"
   },
   "outputs": [],
   "source": [
    "def fit_linear(x,y):\n",
    "    \"\"\"\n",
    "    Given vectors of data points (x,y), performs a fit for the linear model:\n",
    "       y = beta0 + beta1*x,\n",
    "    The function returns beta0, beta1, and loss, where loss is the sum-of-squares loss of.\n",
    "    \"\"\"\n",
    "    # TODO complete the following code\n",
    "\n",
    "    # beta0 = ...\n",
    "    # beta1 = ...\n",
    "    # loss = ...\n",
    "\n",
    "    return beta0, beta1, loss"
   ]
  },
  {
   "cell_type": "markdown",
   "metadata": {
    "id": "-Z31VFI782YY"
   },
   "source": [
    "Using the function `fit_linear` above, print the values `beta0`, `beta1` and `loss` for the linear model of price vs. number of rooms."
   ]
  },
  {
   "cell_type": "code",
   "execution_count": null,
   "metadata": {
    "id": "3YqPtVCb82YY"
   },
   "outputs": [],
   "source": [
    "# TODO\n"
   ]
  },
  {
   "cell_type": "markdown",
   "metadata": {
    "id": "HgGsqX_782YY"
   },
   "source": [
    "Replot the scatter plot above, but now with the regression line.  You can create the regression line by creating points `yp` that are the predicted values for each value in `x`, according to our linear model. Plot as a line, not a scatter plot."
   ]
  },
  {
   "cell_type": "code",
   "execution_count": null,
   "metadata": {
    "id": "lcRn_sBm82YY"
   },
   "outputs": [],
   "source": [
    "# TODO\n"
   ]
  },
  {
   "cell_type": "markdown",
   "metadata": {
    "id": "k4tKB1WB82YY"
   },
   "source": [
    "# Part 2:  Compare different dependent variables\n",
    "\n",
    "\n",
    "We next compute the squared loss for all the predictors and output the values in a table. Your table should look like the following, where each entry in the first column is the attribute name and the second column is the squared loss.\n",
    "\n",
    "    Lot Area           XXXXX\n",
    "    Overall Qual       XXXXX\n",
    "    Overall Cond       XXXXX\n",
    "    ...         ...\n",
    "\n",
    "You will need to write a loop to perform this task.\n",
    "\n",
    "What variable does the best job predicting house price?"
   ]
  },
  {
   "cell_type": "code",
   "execution_count": null,
   "metadata": {
    "id": "zgttKdBI82YY"
   },
   "outputs": [],
   "source": [
    "# TODO\n"
   ]
  },
  {
   "cell_type": "markdown",
   "metadata": {
    "id": "MEhPnx9lAtb_"
   },
   "source": [
    "**TODO:** Describe in words the meaning of the most predictive variable for housing price."
   ]
  },
  {
   "cell_type": "markdown",
   "metadata": {},
   "source": []
  },
  {
   "cell_type": "markdown",
   "metadata": {
    "id": "XjN9H2pa82YZ"
   },
   "source": [
    "# Part 3:  Compare different loss functions\n",
    "\n",
    "## A Brute force algorithm for squared loss\n",
    "\n",
    "Your code in `fit_linear` relies on the closed form expressions for the optimal $\\beta_0$ and $\\beta_1$, which we derived in class. However, if you did not know these formulas, you could have approximately minimized the loss function by brute force searching over a grid of possible values for $\\beta_0$ and $\\beta_1$.\n",
    "\n",
    "For example, we could try out all combinations of parameters where $\\beta_0$ is in `np.arange(-50,50,.1)` and $\\beta_1$ is in `np.arange(-1,1,.005)`"
   ]
  },
  {
   "cell_type": "markdown",
   "metadata": {
    "id": "_3wMpT1b82YZ"
   },
   "source": [
    "Write a function which takes this approach to find a $\\beta_0$ and $\\beta_1$ which approximately minimize the squared loss: $\\sum_{i=1}^n (y_i - \\beta_0 - \\beta_1 x)^2$"
   ]
  },
  {
   "cell_type": "markdown",
   "metadata": {},
   "source": []
  },
  {
   "cell_type": "code",
   "execution_count": null,
   "metadata": {
    "id": "xM5-ccw382YZ"
   },
   "outputs": [],
   "source": [
    "def fit_approx(x,y):\n",
    "    \"\"\"\n",
    "    Given vectors of data points (x,y), performs an *approximate* fit for the linear model:\n",
    "       y = beta0 + beta1*x,\n",
    "    under the sum-of-squares loss. The min_loss returned is the lost of the best beta0 and beta1 you found.\n",
    "    \"\"\"\n",
    "    # TODO complete the following code\n",
    "    # beta0 = ...\n",
    "    # beta1 = ...\n",
    "    # min_loss = ...\n",
    "\n",
    "\n",
    "    return beta0, beta1, min_loss"
   ]
  },
  {
   "cell_type": "markdown",
   "metadata": {
    "id": "L7xf8hw082YZ"
   },
   "source": [
    "Compare the output of `fit_approx` and `fit_linear` with `y` being `SalePrice` and `x` being the `Gr Liv Area` variable from our dataset. You should do so:\n",
    "* quantitatively, by printing the loss that each approach achieves\n",
    "* and visually, by plotting the different fit lines obtained."
   ]
  },
  {
   "cell_type": "code",
   "execution_count": null,
   "metadata": {
    "id": "lVNuHKtesx0_"
   },
   "outputs": [],
   "source": [
    "# TODO\n"
   ]
  },
  {
   "cell_type": "markdown",
   "metadata": {
    "id": "cyJ2AimhFFGl"
   },
   "source": [
    "## Extending to different loss functions\n",
    "\n",
    "One benefit of the above approach is that is easily extends to different loss funtions. Write functions which find an approximately optimal $\\beta_0$ and $\\beta_1$ for\n",
    "* minimizing the $\\ell_1$ (least absolute deviations) loss: $\\sum_{i=1}^n |y_i - \\beta_0 - \\beta_1 x_i|$\n",
    "* minimizing the $\\ell_\\infty$ (max) loss: $\\max_i |y_i - \\beta_0 - \\beta_1 x_i|$\n"
   ]
  },
  {
   "cell_type": "code",
   "execution_count": null,
   "metadata": {
    "id": "pu5H4-pM82YZ"
   },
   "outputs": [],
   "source": [
    "def fit_approx_l1(x,y):\n",
    "    \"\"\"\n",
    "    Given vectors of data points (x,y), performs an *approximate* fit for the linear model:\n",
    "       y = beta0 + beta1*x,\n",
    "    under the least absolute deviations loss.\n",
    "    \"\"\"\n",
    "\n",
    "    # TODO complete the following code\n",
    "    # beta0 = ...\n",
    "    # beta1 = ...\n",
    "    # min_loss = ...\n",
    "\n",
    "\n",
    "\n",
    "    return beta0, beta1, min_loss"
   ]
  },
  {
   "cell_type": "code",
   "execution_count": null,
   "metadata": {
    "id": "_8g0HgL582YZ"
   },
   "outputs": [],
   "source": [
    "def fit_approx_max(x,y):\n",
    "    \"\"\"\n",
    "    Given vectors of data points (x,y), performs an *approximate* fit for the linear model:\n",
    "       y = beta0 + beta1*x,\n",
    "    under the max loss.\n",
    "    \"\"\"\n",
    "    # TODO complete the following code\n",
    "    # beta0 = ...\n",
    "    # beta1 = ...\n",
    "    # min_loss = ...\n",
    "\n",
    "\n",
    "    return beta0, beta1, min_loss"
   ]
  },
  {
   "cell_type": "markdown",
   "metadata": {
    "id": "Oi444lua82YZ"
   },
   "source": [
    "**TODO:** Use your algorithm to obtain 3 different linear fits for `SalePrice` with predictor variable `Gr Liv Area`, one for squared loss, one for $\\ell_1$ loss, and one for $\n",
    "$ loss. Plot the linear fits (along with the data scatter plot) on a single figure and use a legend to indicate which fit corresponds to which loss."
   ]
  },
  {
   "cell_type": "code",
   "execution_count": null,
   "metadata": {
    "id": "U_esYjHFxei-"
   },
   "outputs": [],
   "source": [
    "# TODO\n"
   ]
  },
  {
   "cell_type": "markdown",
   "metadata": {
    "id": "hhhh3qmec83V"
   },
   "source": [
    "**TODO:** Repeat the process above for the `Lot Area` predictor variable, which has some more extreme outliers. Note that  this variable has a different scale than `Gr Liv Area` so you might need to adjust your approximate fit functions accordingly.\n",
    "\n",
    "Again produce a plot that contains three different linear fits for all three different loss functions. Write 1-2 sentences of discussion about how the choice of loss function effected the fit."
   ]
  },
  {
   "cell_type": "code",
   "execution_count": null,
   "metadata": {
    "id": "2n5OBKZ_1PiF"
   },
   "outputs": [],
   "source": [
    "# TODO\n"
   ]
  }
 ],
 "metadata": {
  "anaconda-cloud": {},
  "colab": {
   "provenance": [
    {
     "file_id": "1nJAm6jDrE2FWSTrDPHPhH4mtbW-JXSg3",
     "timestamp": 1725763237043
    },
    {
     "file_id": "17rhvdWcpASKM3rUBe513l4cxTWQxqGXa",
     "timestamp": 1675045731895
    }
   ]
  },
  "kernelspec": {
   "display_name": "Python 3",
   "language": "python",
   "name": "python3"
  },
  "language_info": {
   "codemirror_mode": {
    "name": "ipython",
    "version": 3
   },
   "file_extension": ".py",
   "mimetype": "text/x-python",
   "name": "python",
   "nbconvert_exporter": "python",
   "pygments_lexer": "ipython3",
   "version": "3.7.4"
  }
 },
 "nbformat": 4,
 "nbformat_minor": 0
}
